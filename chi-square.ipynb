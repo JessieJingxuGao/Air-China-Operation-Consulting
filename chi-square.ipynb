{
 "cells": [
  {
   "cell_type": "markdown",
   "metadata": {},
   "source": [
    "# Chi-square goodness of fit test for Poisson\n",
    "\n",
    "Goal:\n",
    "Cargo arrival and departure in each 60-min interval on busy days (excluding Sunday and Monday) can bee seen as roughly following Poisson Distribution (within non-rejection threshold)\n",
    "\n",
    "Data:\n",
    "Arrival cargos on 10 am for 25 busy days of 2015-8 \n"
   ]
  },
  {
   "cell_type": "code",
   "execution_count": 19,
   "metadata": {
    "collapsed": false
   },
   "outputs": [
    {
     "data": {
      "text/plain": [
       "array([1, 8, 4, 7, 5])"
      ]
     },
     "execution_count": 19,
     "metadata": {},
     "output_type": "execute_result"
    }
   ],
   "source": [
    "%matplotlib inline\n",
    "import numpy\n",
    "import matplotlib.pyplot as plt\n",
    "\n",
    "data=[62,42,26,43,47,45,66,69,38,39,46,44,67,59,56,60,41,55,62,59,64,72,44,36,47]\n",
    "data=numpy.array(data)\n",
    "mean=numpy.mean(data)\n",
    "min=numpy.min(data)\n",
    "max=numpy.max(data)\n",
    "data_bins = numpy.linspace(min, max, 6)\n",
    "data_his=numpy.histogram(data, data_bins)[0]\n",
    "data_his"
   ]
  },
  {
   "cell_type": "code",
   "execution_count": 22,
   "metadata": {
    "collapsed": false
   },
   "outputs": [
    {
     "data": {
      "text/plain": [
       "array([  0.245 ,   3.71  ,  11.335 ,   8.0175,   1.625 ])"
      ]
     },
     "execution_count": 22,
     "metadata": {},
     "output_type": "execute_result"
    }
   ],
   "source": [
    "poisson=numpy.random.poisson(mean,10000)\n",
    "poisson_bins = numpy.linspace(min, max, 6)\n",
    "poisson_freq=numpy.histogram(poisson, poisson_bins)[0]/len(poisson)\n",
    "# sum!=1 as possion distribution has value out of (338,451)\n",
    "poisson_his=len(data)*poisson_freq\n",
    "# print(sum(data_his)) \n",
    "# print(sum(poisson_his))\n",
    "poisson_his"
   ]
  },
  {
   "cell_type": "code",
   "execution_count": 23,
   "metadata": {
    "collapsed": false
   },
   "outputs": [
    {
     "data": {
      "text/plain": [
       "19.172609823684766"
      ]
     },
     "execution_count": 23,
     "metadata": {},
     "output_type": "execute_result"
    }
   ],
   "source": [
    "sum=0\n",
    "for bin_idx in range(5):\n",
    "    sum+=(data_his[bin_idx]-poisson_his[bin_idx])**2/poisson_his[bin_idx]\n",
    "sum"
   ]
  },
  {
   "cell_type": "markdown",
   "metadata": {},
   "source": [
    "The number of constraint of Poison Distribution is 1 (Poison rate), so the degree of freedom is n-1-1= n-2 = 25-2 = 23. By looking up chart, the rejection threshold of Chi-square(23) for alpha=0.05 is 35.172 > 119.172609823684766"
   ]
  },
  {
   "cell_type": "code",
   "execution_count": 24,
   "metadata": {
    "collapsed": false
   },
   "outputs": [
    {
     "data": {
      "image/png": "[encoded data removed]",
      "text/plain": [
       "<matplotlib.figure.Figure at 0x110f11e48>"
      ]
     },
     "metadata": {},
     "output_type": "display_data"
    }
   ],
   "source": [
    "plt.hist(data, bins=data_bins)\n",
    "plt.show()"
   ]
  },
  {
   "cell_type": "code",
   "execution_count": 25,
   "metadata": {
    "collapsed": false
   },
   "outputs": [
    {
     "data": {
      "image/png": "[encoded data removed]",
      "text/plain": [
       "<matplotlib.figure.Figure at 0x110f406a0>"
      ]
     },
     "metadata": {},
     "output_type": "display_data"
    }
   ],
   "source": [
    "plt.hist(poisson, bins=poisson_bins)\n",
    "plt.show()"
   ]
  },
  {
   "cell_type": "code",
   "execution_count": null,
   "metadata": {
    "collapsed": true
   },
   "outputs": [],
   "source": []
  }
 ],
 "metadata": {
  "anaconda-cloud": {},
  "kernelspec": {
   "display_name": "Python [Root]",
   "language": "python",
   "name": "Python [Root]"
  },
  "language_info": {
   "codemirror_mode": {
    "name": "ipython",
    "version": 3
   },
   "file_extension": ".py",
   "mimetype": "text/x-python",
   "name": "python",
   "nbconvert_exporter": "python",
   "pygments_lexer": "ipython3",
   "version": "3.5.2"
  }
 },
 "nbformat": 4,
 "nbformat_minor": 0
}
